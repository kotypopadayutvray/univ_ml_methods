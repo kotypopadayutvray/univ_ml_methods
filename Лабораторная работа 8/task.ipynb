{
 "cells": [
  {
   "cell_type": "markdown",
   "metadata": {},
   "source": [
    "https://www.kaggle.com/uciml/breast-cancer-wisconsin-data\n",
    "\n",
    "https://archive.ics.uci.edu/ml/datasets/Breast+Cancer+Wisconsin+%28Diagnostic%29"
   ]
  },
  {
   "cell_type": "code",
   "execution_count": null,
   "metadata": {},
   "outputs": [],
   "source": [
    "import numpy as np\n",
    "import pandas as pd\n",
    "import seaborn as sns\n",
    "import matplotlib.pyplot as plt\n",
    "from sklearn.svm import SVC\n",
    "from sklearn.metrics import accuracy_score\n",
    "from sklearn.datasets import fetch_20newsgroups\n",
    "from sklearn.model_selection import GridSearchCV\n",
    "from sklearn.feature_extraction.text import TfidfVectorizer\n",
    "%matplotlib inline"
   ]
  },
  {
   "cell_type": "code",
   "execution_count": null,
   "metadata": {},
   "outputs": [],
   "source": [
    "pd.options.display.max_columns = None"
   ]
  },
  {
   "cell_type": "code",
   "execution_count": null,
   "metadata": {},
   "outputs": [],
   "source": [
    "data = pd.read_csv('data.csv')\n",
    "data.head()"
   ]
  },
  {
   "cell_type": "code",
   "execution_count": null,
   "metadata": {},
   "outputs": [],
   "source": [
    "data.drop(columns=['Unnamed: 32','id'], inplace=True)\n",
    "data.head()"
   ]
  },
  {
   "cell_type": "code",
   "execution_count": null,
   "metadata": {},
   "outputs": [],
   "source": [
    "data.isna().sum()"
   ]
  },
  {
   "cell_type": "markdown",
   "metadata": {},
   "source": [
    "`diagnosis` - целевая переменная"
   ]
  },
  {
   "cell_type": "code",
   "execution_count": null,
   "metadata": {},
   "outputs": [],
   "source": [
    "sns.countplot(data['diagnosis'])\n",
    "display(data['diagnosis'].value_counts())"
   ]
  },
  {
   "cell_type": "code",
   "execution_count": null,
   "metadata": {},
   "outputs": [],
   "source": [
    "data.describe()"
   ]
  },
  {
   "cell_type": "markdown",
   "metadata": {},
   "source": [
    "Посмотрим, как каждая из переменных в наборе данных соотносится с другой. На графике ниже также будут построены диаграммы распределения каждой из переменных"
   ]
  },
  {
   "cell_type": "code",
   "execution_count": null,
   "metadata": {},
   "outputs": [],
   "source": [
    "sns.pairplot(data, hue='diagnosis')"
   ]
  },
  {
   "cell_type": "markdown",
   "metadata": {},
   "source": [
    "На вскикду можно сказать, что в наборе данных много коррелирующих переменных\n",
    "\n",
    "Теперь построим диаграммы рассеивания для целевой переменной"
   ]
  },
  {
   "cell_type": "code",
   "execution_count": null,
   "metadata": {},
   "outputs": [],
   "source": [
    "sns.set(style=\"whitegrid\", palette=\"muted\")\n",
    "# Запоминаем целевую переменную отдельно\n",
    "target = data['diagnosis']\n",
    "# Запоминаем данные отдельно\n",
    "features = data.drop(columns=['diagnosis'])\n",
    "# Приводим данные к стандартизированному виду\n",
    "features = (features - features.mean()) / (features.std())"
   ]
  },
  {
   "cell_type": "code",
   "execution_count": null,
   "metadata": {
    "scrolled": true
   },
   "outputs": [],
   "source": [
    "len(features.columns)"
   ]
  },
  {
   "cell_type": "code",
   "execution_count": null,
   "metadata": {},
   "outputs": [],
   "source": [
    "swarmplot_data = pd.concat([target, features.iloc[:,0:10]],axis=1)\n",
    "swarmplot_data = pd.melt(swarmplot_data,\n",
    "                         id_vars=\"diagnosis\",\n",
    "                         var_name=\"features\",\n",
    "                         value_name=\"value\")\n",
    "plt.figure(figsize=(12,12))\n",
    "sns.swarmplot(x=\"features\", y=\"value\", hue=\"diagnosis\", data=swarmplot_data)\n",
    "plt.xticks(rotation=90)"
   ]
  },
  {
   "cell_type": "code",
   "execution_count": null,
   "metadata": {},
   "outputs": [],
   "source": [
    "swarmplot_data = pd.concat([target, features.iloc[:,10:20]],axis=1)\n",
    "swarmplot_data = pd.melt(swarmplot_data,\n",
    "                         id_vars=\"diagnosis\",\n",
    "                         var_name=\"features\",\n",
    "                         value_name=\"value\")\n",
    "plt.figure(figsize=(12,12))\n",
    "sns.swarmplot(x=\"features\", y=\"value\", hue=\"diagnosis\", data=swarmplot_data)\n",
    "plt.xticks(rotation=90)"
   ]
  },
  {
   "cell_type": "code",
   "execution_count": null,
   "metadata": {
    "scrolled": false
   },
   "outputs": [],
   "source": [
    "swarmplot_data = pd.concat([target, features.iloc[:,20:30]],axis=1)\n",
    "swarmplot_data = pd.melt(swarmplot_data,\n",
    "                         id_vars=\"diagnosis\",\n",
    "                         var_name=\"features\",\n",
    "                         value_name=\"value\")\n",
    "plt.figure(figsize=(12,12))\n",
    "sns.swarmplot(x=\"features\", y=\"value\", hue=\"diagnosis\", data=swarmplot_data)\n",
    "plt.xticks(rotation=90)"
   ]
  },
  {
   "cell_type": "markdown",
   "metadata": {},
   "source": [
    "По диаграммам рассеивания можно увидеть, что на некоторых переменных достаточно хорошо просматривается разделение на классы. Это замечание понадобится нам в будущем"
   ]
  },
  {
   "cell_type": "code",
   "execution_count": null,
   "metadata": {},
   "outputs": [],
   "source": [
    "corr_matrix = data.corr()"
   ]
  },
  {
   "cell_type": "code",
   "execution_count": null,
   "metadata": {},
   "outputs": [],
   "source": [
    "f,ax = plt.subplots(figsize=(20, 20))\n",
    "sns.heatmap(corr_matrix, annot=True, linewidths=.5, fmt= '.1f',ax=ax)"
   ]
  },
  {
   "cell_type": "markdown",
   "metadata": {},
   "source": [
    "Ниже приведены рассуждения, которыми я руководствовался при исключении переменных из датасета. Код закомментирован, чтобы не плодить лишние изображения.\n",
    "\n",
    "В рассмотрение брались переменные с коэффициентом корреляции >= 0.8 (иногда делались и исключения).\n",
    "\n",
    "Решение о том какие из сильно коррелирующих переменных оставлять, а какие удалять принимались на основе диаграмм рассеивания и диаграмм распределения (именно в таком порядке)."
   ]
  },
  {
   "cell_type": "markdown",
   "metadata": {},
   "source": [
    "Переменная `radius_mean` сильно коррелирует с `perimeter_mean` и `area_mean`; оставляем `area_mean`.\n",
    "\n",
    "Переменная `texture_mean` сильно коррелирует с `texture_worst`; оставляем `texture_mean`.\n",
    "\n",
    "Переменная `area_mean` сильно коррелирует с `area_worst`; оставляем `area_mean`.\n",
    "\n",
    "Переменная `radius_se` сильно коррелирует с `area_se`, `perimeter_se`; оставляем `area_se`.\n",
    "\n",
    "Переменная `radius_worst` сильно коррелирует с `area_worst`, `perimeter_worst`; оставляем `area_worst`."
   ]
  },
  {
   "cell_type": "code",
   "execution_count": null,
   "metadata": {},
   "outputs": [],
   "source": [
    "# drop_cols = ['radius_mean',\n",
    "#              'perimeter_mean',\n",
    "#              'texture_worst',\n",
    "#              'radius_se',\n",
    "#              'perimeter_se',\n",
    "#              'radius_worst',\n",
    "#              'perimeter_worst']\n",
    "# corr_matrix = data.drop(columns=drop_cols).corr()\n",
    "# f,ax = plt.subplots(figsize=(20, 20))\n",
    "# sns.heatmap(corr_matrix, annot=True, linewidths=.5, fmt= '.1f',ax=ax)"
   ]
  },
  {
   "cell_type": "markdown",
   "metadata": {},
   "source": [
    "Переменная `compactness_mean` сильно коррелирует с `concavity_mean`, `concave points_mean`; оставляем `concave points_mean`.\n",
    "\n",
    "Переменная `compactness_worst` сильно коррелирует с `concavity_worst`, `concave points_worst`. Оставим `concave points_worst`."
   ]
  },
  {
   "cell_type": "code",
   "execution_count": null,
   "metadata": {},
   "outputs": [],
   "source": [
    "# drop_cols = ['radius_mean',\n",
    "#              'perimeter_mean',\n",
    "#              'compactness_mean',\n",
    "#              'concavity_mean',\n",
    "#              'texture_worst',\n",
    "#              'radius_se',\n",
    "#              'perimeter_se',\n",
    "#              'radius_worst',\n",
    "#              'compactness_worst',\n",
    "#              'concavity_worst',\n",
    "#              'perimeter_worst']\n",
    "# corr_matrix = data.drop(columns=drop_cols).corr()\n",
    "# f,ax = plt.subplots(figsize=(20, 20))\n",
    "# sns.heatmap(corr_matrix, annot=True, linewidths=.5, fmt= '.1f',ax=ax)"
   ]
  },
  {
   "cell_type": "markdown",
   "metadata": {},
   "source": [
    "Переменная `area_mean` сильно коррелирует с `area_worst`, `concave points_mean`, `concavity_points_worst`; оставляем `area_mean`.\n",
    "\n",
    "Переменная `compactness_se` сильно коррелирует с `concavity_se`, `concave points_se`; оставляем `concavity_se`."
   ]
  },
  {
   "cell_type": "markdown",
   "metadata": {},
   "source": [
    "На этом отбор переменных закончился, строим финальную матрицу корелляций, чтобы убедиться, что все более-менее в порядке."
   ]
  },
  {
   "cell_type": "code",
   "execution_count": null,
   "metadata": {},
   "outputs": [],
   "source": [
    "drop_cols = ['radius_mean',\n",
    "             'perimeter_mean',\n",
    "             'compactness_mean',\n",
    "             'concavity_mean',\n",
    "             'concave points_mean',\n",
    "             'area_worst',\n",
    "             'concave points_worst',\n",
    "             'texture_worst',\n",
    "             'radius_se',\n",
    "             'compactness_se',\n",
    "             'concave points_se',\n",
    "             'perimeter_se',\n",
    "             'radius_worst',\n",
    "             'compactness_worst',\n",
    "             'concavity_worst',\n",
    "             'perimeter_worst']\n",
    "corr_matrix = data.drop(columns=drop_cols).corr()\n",
    "f,ax = plt.subplots(figsize=(20, 20))\n",
    "sns.heatmap(corr_matrix, annot=True, linewidths=.5, fmt= '.1f',ax=ax)"
   ]
  },
  {
   "cell_type": "markdown",
   "metadata": {},
   "source": [
    "Теперь можно приступать к этапу пострения модели"
   ]
  },
  {
   "cell_type": "code",
   "execution_count": null,
   "metadata": {},
   "outputs": [],
   "source": []
  }
 ],
 "metadata": {
  "kernelspec": {
   "display_name": "Python 3",
   "language": "python",
   "name": "python3"
  },
  "language_info": {
   "codemirror_mode": {
    "name": "ipython",
    "version": 3
   },
   "file_extension": ".py",
   "mimetype": "text/x-python",
   "name": "python",
   "nbconvert_exporter": "python",
   "pygments_lexer": "ipython3",
   "version": "3.6.9"
  }
 },
 "nbformat": 4,
 "nbformat_minor": 2
}
